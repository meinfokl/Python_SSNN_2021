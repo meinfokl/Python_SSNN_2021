{
 "cells": [
  {
   "cell_type": "code",
   "execution_count": 58,
   "metadata": {},
   "outputs": [],
   "source": [
    "# Sphere-Plane NN model\n",
    "\n",
    "import matplotlib.pyplot as plt \n",
    "from math import exp\n",
    "from random import seed\n",
    "from random import random\n",
    "from random import randint\n",
    "import matplotlib.lines as lines \n",
    "\n",
    "import math\n",
    " \n",
    "# Initialize a network\n",
    "\n",
    "\n",
    "class neuron_s():\n",
    "    \n",
    "    def __init__(self, n_inputs,c):\n",
    "        self.mode = \"C\"\n",
    "        self.inputs = [0 for _ in range(n_inputs)]\n",
    "        self.weights = [random() for _ in range(n_inputs)]\n",
    "        s1 = sum([x*x for x in self.weights])\n",
    "        s2 = math.sqrt(s1)\n",
    "        self.weights = [x /s2 for x in self.weights ]\n",
    "\n",
    "        self.delta = 0\n",
    "        self.output = 0\n",
    "        self.A = .2 + 0.6*random()\n",
    "        self.R = .2 + 4*random()\n",
    "        self.C = c\n",
    "    \n",
    "    def activate(self):\n",
    "        N = len(self.weights)\n",
    "        y1 = sum([self.inputs[i]* self.inputs[i] for i in range(N) ])\n",
    "        y2 = sum([self.inputs[i]* self.weights[i] for i in range(N) ])\n",
    "        activation = - (y1 - 2*(self.A + self.R)*y2 + self.A*self.A + 2*self.A*self.R)*(1. + 1/max(self.R,0.01))        \n",
    "        #print (self.weights, \"C:\", self.weights[0]*(self.A +self.R), self.weights[1]*(self.A +self.R), activation)\n",
    "        return activation\n",
    "    \n",
    "    def transfer(self,activation):\n",
    "        self.output = 1.0 / (1.0 + exp(-.5*activation)) + 1\n",
    "        return self.output\n",
    "\n",
    "    def transfer_derivative(self):\n",
    "        return .5*self.output * (1.0 - self.output)\n",
    "\n",
    "    # Calculate the derivative of the activation function\n",
    "    def activation_derivate_by_input(self, idx):\n",
    "        return 2*self.inputs[idx] - 2*(self.A + self.R)*self.weights[idx]\n",
    "\n",
    "    def activation_derivate_by_weight(self, idx):\n",
    "        return  - 2*(self.A + self.R)*self.inputs[idx]\n",
    "\n",
    "    def activation_derivate_by_A(self):\n",
    "        N = len(self.inputs)\n",
    "        s1 = sum([self.inputs[i]*self.weights[i] for i in range(N)])\n",
    "        return -2*s1 + 2*(self.A + self.R)\n",
    "\n",
    "    def activation_derivate_by_R(self):\n",
    "        N = len(self.weights)\n",
    "        y1 = sum([self.inputs[i]* self.inputs[i] for i in range(N) ])\n",
    "        y2 = sum([self.inputs[i]* self.weights[i] for i in range(N) ])\n",
    "        act = - (y1 - 2*(self.A + self.R)*y2 + self.A*self.A + 2*self.A*self.R)        \n",
    "        s1 = sum([self.inputs[i]*self.weights[i] for i in range(N)])\n",
    "        return (-2*s1 + 2*(self.A))*(1. + 1 / self.R) - act*1/(self.R**2)\n",
    "    \n",
    "    def print_neuron_param(self):\n",
    "        print(self.weights, self.A, self.R,self.C)\n",
    "\n",
    "    def update_weights(self, l_rate):\n",
    "        for j in range(len(self.weights)):\n",
    "            self.weights[j] -= l_rate * self.delta * self.activation_derivate_by_weight(j)\n",
    "        self.A -= l_rate * self.delta*self.activation_derivate_by_A()\n",
    "        self.R -= 1.5*l_rate * self.delta*self.activation_derivate_by_R()\n",
    "        s1 = sum([x*x for x in self.weights])\n",
    "        s2 = math.sqrt(s1)\n",
    "        self.weights = [x /s2 for x in self.weights ]\n",
    "        \n",
    "    def draw_neuron(self, axes, plt):\n",
    "        cl = 'blue' if self.C > 0 else 'red'\n",
    "        cc = plt.Circle( ((self.A+self.R)*self.weights[0], (self.A+self.R)*self.weights[1] ), self.R ,fill = False,color=cl )   \n",
    "        axes.add_artist( cc)    \n",
    "        \n",
    "        \n",
    "class neuron_l():\n",
    "    \n",
    "    def __init__(self, n_inputs):\n",
    "        self.mode = \"L\"\n",
    "        self.inputs = [0 for _ in range(n_inputs)]\n",
    "        self.weights = [random() for _ in range(n_inputs)]\n",
    "        self.delta = 0\n",
    "        self.output = 0\n",
    "        self.A = random()\n",
    "    \n",
    "    def activate(self):\n",
    "        N = len(self.weights)\n",
    "        y1 = sum([self.inputs[i]* self.weights[i] for i in range(N) ])\n",
    "        activation = (y1  + self.A) \n",
    "        return activation\n",
    "    \n",
    "    def transfer(self,activation):\n",
    "        self.output = 1.0 / (1.0 + exp(-activation)) + 1\n",
    "        return self.output\n",
    "\n",
    "    def transfer_derivative(self):\n",
    "        return self.output * (1.0 - self.output)\n",
    "\n",
    "    # Calculate the derivative of the activation function\n",
    "    def activation_derivate_by_input(self, idx):\n",
    "        return self.weights[idx]\n",
    "\n",
    "    def activation_derivate_by_weight(self, idx):\n",
    "        return  self.inputs[idx]\n",
    "\n",
    "    def activation_derivate_by_A(self):\n",
    "        return 1\n",
    "    \n",
    "    def print_neuron_param(self):\n",
    "        print(self.weights, self.A)\n",
    "\n",
    "    def update_weights(self, l_rate):\n",
    "        for j in range(len(self.weights)):\n",
    "            self.weights[j] += l_rate * self.delta * self.activation_derivate_by_weight(j)\n",
    "        self.A += l_rate * self.delta*self.activation_derivate_by_A()\n",
    "\n",
    "    def draw_neuron(self, axes, plt):\n",
    "        cl = 'black\"'\n",
    "        x1 = -2\n",
    "        y1 = (self.A - self.weights[0]*x1) / self.weights[1]\n",
    "        x2 = 8\n",
    "        y2 = (self.A - self.weights[0]*x2) / self.weights[1]\n",
    "        line   = plt.Line2D([x1,x2],[y1,y2],mfc ='green')\n",
    "        print (\"line\",[x1,x2],[y1,y2],\"w\",self.weights)\n",
    "        plt.gca().add_line(line)    \n",
    "        \n",
    "        \n",
    "class SSNN_network():\n",
    "    \n",
    "    def __init__ (self, n_inputs, hidden_nmode, outputs_nmode, outputs_category):\n",
    "        self.layers = []\n",
    "        n_outputs = len(outputs_nmode)\n",
    "        n_hiddens = len(hidden_nmode)\n",
    "        self.outputs = outputs_category\n",
    "        self.HL = -1\n",
    "        self.OL = 0\n",
    "        self.layers.append([])\n",
    "        if n_hiddens > 0:\n",
    "            self.layers.append([])\n",
    "            self.HL = 0\n",
    "            self.OL = 1\n",
    "            for i in range(n_hiddens):\n",
    "                if hidden_nmode[i] == 'S': \n",
    "                    self.layers[self.HL].append(neuron_s(n_inputs,0))\n",
    "                else:\n",
    "                    self.layers[self.HL].append(neuron_l(n_inputs))\n",
    "            for i in range(n_outputs):\n",
    "                if outputs_nmode[i] == 'S': \n",
    "                    self.layers[self.OL].append(neuron_s(n_hiddens,outputs_category[i]))\n",
    "                else:\n",
    "                    self.layers[self.OL].append(neuron_l(n_hiddens))\n",
    "        else:\n",
    "            for i in range(n_outputs):\n",
    "                if outputs_nmode[i] == 'S': \n",
    "                    self.layers[self.OL].append(neuron_s(n_inputs,outputs_category[i]))\n",
    "                else:\n",
    "                    self.layers[self.OL].append(neuron_l(n_inputs))\n",
    "        \n",
    "    def forward_propagate(self, row):\n",
    "        for neuron in self.layers[0]:\n",
    "            for i in range(len(row)-1):\n",
    "                neuron.inputs[i] = row[i]\n",
    "\n",
    "        for l in range(len(self.layers)):\n",
    "            layer = self.layers[l]\n",
    "            for neuron in layer:\n",
    "                activation = neuron.activate()\n",
    "                neuron.transfer(activation)\n",
    "            if l < self.OL:\n",
    "                for neuron in self.layers[l+1]:\n",
    "                    for i in range(len(self.layers[l])):\n",
    "                        neuron2 = self.layers[l][i]\n",
    "                        neuron.inputs[i] = neuron2.output\n",
    "\n",
    "            outputs = []\n",
    "            for neuron in self.layers[self.OL]:\n",
    "                outputs.append(neuron.output)\n",
    "        return outputs\n",
    "     \n",
    "    \n",
    "    def backward_propagate_error(self, expected):\n",
    "        for i in reversed(range(len(self.layers))):\n",
    "            layer = self.layers[i]\n",
    "            errors = list()\n",
    "            if i != self.OL:\n",
    "                for j in range(len(layer)):\n",
    "                    error = 0.0\n",
    "                    for neuron in self.layers[i + 1]:\n",
    "                        error += (neuron.activation_derivate_by_input(j) * neuron.delta)\n",
    "                    errors.append(error)\n",
    "            else:\n",
    "                for j in range(len(layer)):\n",
    "                    neuron = layer[j]\n",
    "                    #exp = expected[j] if neuron[\"C\"] == '0' else (1-expected[j])\n",
    "                    exp = expected[j] \n",
    "                    errors.append(exp - neuron.output)\n",
    "            for j in range(len(layer)):\n",
    "                neuron = layer[j]\n",
    "                neuron.delta = errors[j] * neuron.transfer_derivative()\n",
    "                \n",
    "    def update_weights(self, l_rate):\n",
    "        for i in range(len(self.layers)):\n",
    "            for neuron in self.layers[i]:\n",
    "                neuron.update_weights(l_rate);\n",
    "                \n",
    "\n",
    "    def train_network(self, train, l_rate, n_epoch, drf = 5):\n",
    "        train = self.normalize(train) \n",
    "        n_outputs = len(self.outputs)\n",
    "        self.draw_network( train)\n",
    "        self.print_network_param()\n",
    "        for epoch in range(n_epoch):\n",
    "            sum_error = 0\n",
    "            for row in train:\n",
    "                voutputs = self.forward_propagate( row)\n",
    "                expected = [0 for i in range(n_outputs)]\n",
    "                for i in range(n_outputs):\n",
    "                    if self.outputs[i] == row[-1]:\n",
    "                        expected[i] = 1\n",
    "                sum_error += sum([(expected[i]-voutputs[i])**2 for i in range(len(expected))])\n",
    "                self.backward_propagate_error( expected)\n",
    "                self.update_weights(l_rate)\n",
    "            print('>epoch=%d, lrate=%.3f, error=%.3f' % (epoch, l_rate, sum_error))\n",
    "            if epoch % drf == 0:\n",
    "                self.draw_network( train)\n",
    "                self.print_network_param()\n",
    "            self.update_w()\n",
    "              \n",
    "            \n",
    "    def draw_network (self, train):\n",
    "        figure, axes = plt.subplots()\n",
    "        axes.set_aspect( 1 )\n",
    "        for i in range(len(self.layers[self.OL])):\n",
    "            sn = self.layers[self.OL][i]\n",
    "            sn.draw_neuron(axes, plt)\n",
    "        for i in range(len(train)):\n",
    "            cl = 'blue' if train[i][2] > 0 else 'red'\n",
    "            cc = plt.Circle( (train[i][0], train[i][1] ), 0.03 ,fill = True, color =cl )   \n",
    "            axes.add_artist( cc)        \n",
    "\n",
    "        plt.xlim( -1 ,2 ) \n",
    "        plt.ylim( -1 ,2) \n",
    "        plt.title( 'Circle' ) \n",
    "        plt.show()            \n",
    "                \n",
    "    def print_network_param(self):\n",
    "        for layer in self.layers:\n",
    "            print (\"Layer ---------------\")\n",
    "            for neuron in layer:\n",
    "                neuron.print_neuron_param()\n",
    "                \n",
    "    def normalize (self, train):\n",
    "        mx = []\n",
    "        mn = []\n",
    "        for i in range(len(train[0])-1):\n",
    "            mx.append(max([x[i] for x in train ]))\n",
    "            mn.append(min([x[i] for x in train ]))\n",
    "        for row in train:\n",
    "            for i in range(len(row)-1):\n",
    "                row[i] = 1 + (row[i] - mn[i]) / (mx[i] - mn[i]) \n",
    "        return train\n",
    "    \n",
    "    def test_network(self, train):\n",
    "        train = self.normalize(train)\n",
    "        n_outputs = len(self.outputs)\n",
    "        dbok = 0\n",
    "        for row in train:\n",
    "            voutputs = self.forward_propagate( row)\n",
    "            expected = [0 for i in range(n_outputs)]\n",
    "            idx = voutputs.index(max(voutputs))\n",
    "            if self.outputs[idx] == row[-1]:\n",
    "                dbok += 1\n",
    "            print (row, voutputs)\n",
    "        print (\"accuray:\", dbok / len(train))\n",
    "        \n",
    "    def update_w (self):\n",
    "        for layer in self.layers:\n",
    "            upds = []\n",
    "            for n1  in range(len(layer)):\n",
    "                for n2 in range(len(layer)):\n",
    "                    if n1 == n2 or layer[n1].mode != layer[n2].mode:\n",
    "                        continue\n",
    "                    N = len(layer[n1].weights)\n",
    "                    d1 = sum ([ (layer[n1].weights[i] - layer[n2].weights[i])**2  for i in range(N) ])\n",
    "                    if d1 > .3 :\n",
    "                        continue\n",
    "                    d2 = (layer[n1].A - layer[n2].A)**2\n",
    "                    if d2 > .3 :\n",
    "                        continue                \n",
    "                    if layer[n1].mode == 'C':\n",
    "                        d3 = (layer[n1].A - layer[n2].A)**2\n",
    "                        if d3 > .3:\n",
    "                            continue\n",
    "                    upds.append(n2)\n",
    "                    \n",
    "            for n in upds:\n",
    "                #print (\"+++++++++++++++++++++++++++++++++++++++++++\")\n",
    "                N = len(layer[n].weights)\n",
    "                for i in range(N):\n",
    "                    layer[n].weights[i] = random()\n",
    "                s1 = sum([x*x for x in layer[n].weights])\n",
    "                s2 = math.sqrt(s1)\n",
    "                layer[n].weights = [x /s2 for x in layer[n].weights ]\n",
    "                layer[n].A = 0.2 + 0.6*random() \n",
    "                layer[n].R = 0.2 + 2*random()\n",
    "                "
   ]
  },
  {
   "cell_type": "code",
   "execution_count": null,
   "metadata": {},
   "outputs": [],
   "source": [
    "def set_network_1(network):\n",
    "    \n",
    "    network.layers[0][0].weights = [1,1]\n",
    "    network.layers[0][0].A = 1.\n",
    "    network.layers[0][0].R = 1.\n",
    "    network.layers[0][1].weights = [0,4]\n",
    "    network.layers[0][1].A = 1.5\n",
    "    network.layers[0][1].R = 2.\n",
    "    network.layers[0][2].weights = [4,0]\n",
    "    network.layers[0][2].A = 1.5\n",
    "    network.layers[0][2].R = 2.\n",
    "    \n",
    "    \n",
    "    for layer in network.layers:\n",
    "        db = 0\n",
    "        for neuron in layer:\n",
    "            s1 = sum([x*x for x in neuron.weights])\n",
    "            s2 = math.sqrt(s1)\n",
    "            neuron.weights = [x /s2 for x in neuron.weights ]\n",
    "               \n",
    "    return network\n",
    "\n",
    "T = [[2.7810836,2.550537003,0],\n",
    "\t[1.465489372,2.362125076,0],\n",
    "\t[3.396561688,4.400293529,0],\n",
    "\t[1.38807019,1.850220317,0],\n",
    "\t[3.06407232,3.005305973,0],\n",
    "\t[7.627531214,2.759262235,1],\n",
    "\t[5.332441248,2.088626775,1],\n",
    "\t[6.922596716,1.77106367,1],\n",
    "\t[8.675418651,-0.242068655,1],\n",
    "\t[7.673756466,3.508563011,1],\n",
    "    [0.673756466,5.508563011,1],\n",
    "    [1.373756466,6.108563011,1],\n",
    "    [1.93756466,7.108563011,1] \n",
    "    ]\n",
    "n_inputs = len(T[0]) - 1\n",
    "network = SSNN_network(n_inputs, [],['S','S','S'],[0,1,1])\n",
    "#network = set_network_1(network)\n",
    "#network.print_network_param()\n",
    "network.train_network( T, 0.05, 150, 10)\n",
    "network.test_network(T)"
   ]
  },
  {
   "cell_type": "code",
   "execution_count": 34,
   "metadata": {},
   "outputs": [
    {
     "name": "stdout",
     "output_type": "stream",
     "text": [
      "line [-2, 8] [5.768545471647882, -4.096194355930174] w [0.13863378222667477, 0.14053465641243523, 0.3140669267419983]\n",
      "line [-2, 8] [4.829131585195642, -10.668165653069593] w [0.3350389714885519, 0.21619187290367547, 0.6137373474678646]\n"
     ]
    },
    {
     "data": {
      "image/png": "[encoded data removed]",
      "text/plain": [
       "<Figure size 432x288 with 1 Axes>"
      ]
     },
     "metadata": {
      "needs_background": "light"
     },
     "output_type": "display_data"
    },
    {
     "name": "stdout",
     "output_type": "stream",
     "text": [
      "Layer ---------------\n",
      "[0.0211778889046521, 0.9997757233607656] 2.4942867212293103 2.3860957156749563 0\n",
      "[0.7566869452735274, 0.6537773832526006] 2.2488916220770547 2.6548056235998416 0\n",
      "[0.4721603400869446, 0.8815126846784342] 2.2281001840935004 3.20169786686028 0\n",
      "Layer ---------------\n",
      "[0.13863378222667477, 0.14053465641243523, 0.3140669267419983] 0.5334129914041947\n",
      "[0.3350389714885519, 0.21619187290367547, 0.6137373474678646] 0.37394105892463736\n",
      ">epoch=0, lrate=0.050, error=7.708\n",
      "line [-2, 8] [5.098598836610945, -3.527499278887003] w [0.12502158548139858, 0.1449341101937856, 0.30460965139781776]\n",
      "line [-2, 8] [5.457733510331849, -12.173239216905703] w [0.3374668938800712, 0.19140571487512364, 0.5896685390396528]\n"
     ]
    },
    {
     "data": {
      "image/png": "[encoded data removed]",
      "text/plain": [
       "<Figure size 432x288 with 1 Axes>"
      ]
     },
     "metadata": {
      "needs_background": "light"
     },
     "output_type": "display_data"
    },
    {
     "name": "stdout",
     "output_type": "stream",
     "text": [
      "Layer ---------------\n",
      "[0.017843604718273808, 0.9998407902114506] 2.495065549294825 2.3858287311476536 0\n",
      "[0.7576567463269044, 0.6526532423464461] 2.2500227306516374 2.654049654608487 0\n",
      "[0.470182327639362, 0.8825693053667976] 2.231777401033471 3.200192765003978 0\n",
      "Layer ---------------\n",
      "[0.12502158548139858, 0.1449341101937856, 0.30460965139781776] 0.48891771465648054\n",
      "[0.3374668938800712, 0.19140571487512364, 0.5896685390396528] 0.3697075963828433\n",
      "+++++++++++++++++++++++++++++++++++++++++++\n",
      "+++++++++++++++++++++++++++++++++++++++++++\n",
      "+++++++++++++++++++++++++++++++++++++++++++\n",
      "+++++++++++++++++++++++++++++++++++++++++++\n",
      "+++++++++++++++++++++++++++++++++++++++++++\n",
      "+++++++++++++++++++++++++++++++++++++++++++\n",
      ">epoch=1, lrate=0.050, error=11.588\n",
      "+++++++++++++++++++++++++++++++++++++++++++\n",
      "+++++++++++++++++++++++++++++++++++++++++++\n",
      ">epoch=2, lrate=0.050, error=10.946\n",
      "+++++++++++++++++++++++++++++++++++++++++++\n",
      "+++++++++++++++++++++++++++++++++++++++++++\n",
      ">epoch=3, lrate=0.050, error=11.209\n",
      ">epoch=4, lrate=0.050, error=11.160\n",
      ">epoch=5, lrate=0.050, error=11.109\n",
      ">epoch=6, lrate=0.050, error=11.056\n",
      ">epoch=7, lrate=0.050, error=11.001\n",
      ">epoch=8, lrate=0.050, error=10.943\n",
      ">epoch=9, lrate=0.050, error=10.882\n",
      ">epoch=10, lrate=0.050, error=10.818\n",
      "line [-2, 8] [3.794445257126355, -3.390587295130245] w [0.5721117505091564, 0.7962549179119216, -0.04527041330070894]\n",
      "line [-2, 8] [2.492370081543194, 2.1643759325336656] w [0.03093619994339326, 0.9431936525945319, 0.0033000397101222096]\n"
     ]
    },
    {
     "data": {
      "image/png": "[encoded data removed]",
      "text/plain": [
       "<Figure size 432x288 with 1 Axes>"
      ]
     },
     "metadata": {
      "needs_background": "light"
     },
     "output_type": "display_data"
    },
    {
     "name": "stdout",
     "output_type": "stream",
     "text": [
      "Layer ---------------\n",
      "[0.9977425195212785, 0.06715552649880183] 2.141218155102795 2.3404757746222584 0\n",
      "[0.7321054624230013, 0.6811913034459581] 2.533734156593758 2.6310738639708537 0\n",
      "[0.12360326199793983, 0.9923317155182881] 2.5025760919313966 3.197956077056708 0\n",
      "Layer ---------------\n",
      "[0.5721117505091564, 0.7962549179119216, -0.04527041330070894] 1.8771221957161133\n",
      "[0.03093619994339326, 0.9431936525945319, 0.0033000397101222096] 2.2889152409412703\n",
      ">epoch=11, lrate=0.050, error=10.752\n",
      ">epoch=12, lrate=0.050, error=10.682\n",
      ">epoch=13, lrate=0.050, error=10.609\n",
      ">epoch=14, lrate=0.050, error=10.532\n",
      ">epoch=15, lrate=0.050, error=10.452\n",
      ">epoch=16, lrate=0.050, error=10.368\n",
      ">epoch=17, lrate=0.050, error=10.280\n",
      ">epoch=18, lrate=0.050, error=10.189\n",
      ">epoch=19, lrate=0.050, error=10.094\n",
      ">epoch=20, lrate=0.050, error=9.995\n",
      "line [-2, 8] [3.2850025722734637, -3.7253181310877337] w [0.549615260013439, 0.7840087255208141, -0.21664679921082342]\n",
      "line [-2, 8] [2.6077583240514204, 2.2784037897413363] w [0.02851514809857018, 0.8657888423580475, -0.01257757623658262]\n"
     ]
    },
    {
     "data": {
      "image/png": "[encoded data removed]",
      "text/plain": [
       "<Figure size 432x288 with 1 Axes>"
      ]
     },
     "metadata": {
      "needs_background": "light"
     },
     "output_type": "display_data"
    },
    {
     "name": "stdout",
     "output_type": "stream",
     "text": [
      "Layer ---------------\n",
      "[0.9996388401022667, 0.02687358106012449] 2.1317241423750626 2.293575446615574 0\n",
      "[0.7388716482761051, 0.6738461897004032] 2.5584508501414644 2.6028999641977966 0\n",
      "[0.12131607801609932, 0.9926139275744581] 2.503474421943015 3.1988172723222457 0\n",
      "Layer ---------------\n",
      "[0.549615260013439, 0.7840087255208141, -0.21664679921082342] 1.4762401599938364\n",
      "[0.02851514809857018, 0.8657888423580475, -0.01257757623658262] 2.200737764332901\n",
      ">epoch=21, lrate=0.050, error=9.892\n",
      ">epoch=22, lrate=0.050, error=9.785\n",
      ">epoch=23, lrate=0.050, error=9.675\n",
      ">epoch=24, lrate=0.050, error=9.562\n",
      ">epoch=25, lrate=0.050, error=9.446\n",
      ">epoch=26, lrate=0.050, error=9.327\n",
      ">epoch=27, lrate=0.050, error=9.206\n",
      ">epoch=28, lrate=0.050, error=9.083\n",
      ">epoch=29, lrate=0.050, error=8.959\n",
      ">epoch=30, lrate=0.050, error=8.835\n",
      "line [-2, 8] [2.648297022067123, -4.144491655697481] w [0.5276612521758179, 0.7767962131709691, -0.41989339384162727]\n",
      "line [-2, 8] [2.7730181644422514, 2.4198211209485456] w [0.02746998329098227, 0.7777523565672707, -0.02832078106401154]\n"
     ]
    },
    {
     "data": {
      "image/png": "[encoded data removed]",
      "text/plain": [
       "<Figure size 432x288 with 1 Axes>"
      ]
     },
     "metadata": {
      "needs_background": "light"
     },
     "output_type": "display_data"
    },
    {
     "name": "stdout",
     "output_type": "stream",
     "text": [
      "Layer ---------------\n",
      "[0.9995126314268103, -0.031216976443167316] 2.1232475233170263 2.2446061620435938 0\n",
      "[0.7298901719468995, 0.6835644350720168] 2.5765353582102626 2.564719714748019 0\n",
      "[0.10539216835305464, 0.9944307370801856] 2.5079872979592794 3.2002005792669213 0\n",
      "Layer ---------------\n",
      "[0.5276612521758179, 0.7767962131709691, -0.41989339384162727] 1.00186459374206\n",
      "[0.02746998329098227, 0.7777523565672707, -0.02832078106401154] 2.101781445616844\n",
      ">epoch=31, lrate=0.050, error=8.710\n",
      ">epoch=32, lrate=0.050, error=8.585\n",
      ">epoch=33, lrate=0.050, error=8.462\n",
      ">epoch=34, lrate=0.050, error=8.340\n",
      ">epoch=35, lrate=0.050, error=8.219\n",
      ">epoch=36, lrate=0.050, error=8.101\n",
      ">epoch=37, lrate=0.050, error=7.984\n",
      ">epoch=38, lrate=0.050, error=7.870\n",
      ">epoch=39, lrate=0.050, error=7.759\n",
      ">epoch=40, lrate=0.050, error=7.650\n",
      "line [-2, 8] [1.9742200203143703, -4.501489707099402] w [0.5123509185669252, 0.7911888273774503, -0.6079465505381136]\n",
      "line [-2, 8] [3.032526437856677, 2.6278593045647947] w [0.027308016555066417, 0.6748266490762774, -0.035611045340178386]\n"
     ]
    },
    {
     "data": {
      "image/png": "[encoded data removed]",
      "text/plain": [
       "<Figure size 432x288 with 1 Axes>"
      ]
     },
     "metadata": {
      "needs_background": "light"
     },
     "output_type": "display_data"
    },
    {
     "name": "stdout",
     "output_type": "stream",
     "text": [
      "Layer ---------------\n",
      "[0.9956001491403615, -0.09370348462938852] 2.1172715227100056 2.204799535181075 0\n",
      "[0.6863146267287655, 0.7273047732128225] 2.5843397498281977 2.5009522522661696 0\n",
      "[0.05056175014111245, 0.9987209367098838] 2.520416833194637 3.200001797615667 0\n",
      "Layer ---------------\n",
      "[0.5123509185669252, 0.7911888273774503, -0.6079465505381136] 0.5372789857237626\n",
      "[0.027308016555066417, 0.6748266490762774, -0.035611045340178386] 1.9918136211839086\n",
      ">epoch=41, lrate=0.050, error=7.544\n",
      ">epoch=42, lrate=0.050, error=7.442\n",
      ">epoch=43, lrate=0.050, error=7.343\n",
      ">epoch=44, lrate=0.050, error=7.248\n",
      ">epoch=45, lrate=0.050, error=7.158\n",
      ">epoch=46, lrate=0.050, error=7.072\n",
      ">epoch=47, lrate=0.050, error=6.990\n",
      ">epoch=48, lrate=0.050, error=6.913\n",
      ">epoch=49, lrate=0.050, error=6.840\n",
      ">epoch=50, lrate=0.050, error=6.771\n",
      "line [-2, 8] [1.3799473546076968, -4.537922047901283] w [0.5045005646948546, 0.8525037143958654, -0.753439093215754]\n",
      "line [-2, 8] [3.48815712407389, 2.9899542111645925] w [0.027486549235524908, 0.5517139407117255, -0.02746424055325641]\n"
     ]
    },
    {
     "data": {
      "image/png": "[encoded data removed]",
      "text/plain": [
       "<Figure size 432x288 with 1 Axes>"
      ]
     },
     "metadata": {
      "needs_background": "light"
     },
     "output_type": "display_data"
    },
    {
     "name": "stdout",
     "output_type": "stream",
     "text": [
      "Layer ---------------\n",
      "[0.9909116385770524, -0.13451440269555173] 2.11412987714751 2.182791884892656 0\n",
      "[0.6393373581341769, 0.7689263570030691] 2.578725653935918 2.4068788683337417 0\n",
      "[-0.007991230835175547, 0.9999680696050944] 2.5362194816974664 3.207448735273758 0\n",
      "Layer ---------------\n",
      "[0.5045005646948546, 0.8525037143958654, -0.753439093215754] 0.16740911608410064\n",
      "[0.027486549235524908, 0.5517139407117255, -0.02746424055325641] 1.8694918142734354\n",
      ">epoch=51, lrate=0.050, error=6.704\n",
      ">epoch=52, lrate=0.050, error=6.641\n",
      ">epoch=53, lrate=0.050, error=6.581\n",
      ">epoch=54, lrate=0.050, error=6.523\n",
      ">epoch=55, lrate=0.050, error=6.467\n",
      ">epoch=56, lrate=0.050, error=6.413\n",
      ">epoch=57, lrate=0.050, error=6.360\n",
      ">epoch=58, lrate=0.050, error=6.309\n",
      ">epoch=59, lrate=0.050, error=6.259\n",
      ">epoch=60, lrate=0.050, error=6.210\n",
      "line [-2, 8] [0.954880325846468, -4.27168727272471] w [0.5004835113989287, 0.9575758888792506, -0.8578845284519532]\n",
      "line [-2, 8] [4.4338275504464475, 3.7456464187605065] w [0.027714897186028965, 0.4027267809294857, -0.009466024413986956]\n"
     ]
    },
    {
     "data": {
      "image/png": "[encoded data removed]",
      "text/plain": [
       "<Figure size 432x288 with 1 Axes>"
      ]
     },
     "metadata": {
      "needs_background": "light"
     },
     "output_type": "display_data"
    },
    {
     "name": "stdout",
     "output_type": "stream",
     "text": [
      "Layer ---------------\n",
      "[0.9875349404365873, -0.15739994096855944] 2.1124807682579845 2.1713567981336075 0\n",
      "[0.6255026277694666, 0.7802220598352063] 2.5551161311004704 2.3357245373161266 0\n",
      "[-0.04056898880315286, 0.9991767396949798] 2.5508954632238927 3.2236651102079774 0\n",
      "Layer ---------------\n",
      "[0.5004835113989287, 0.9575758888792506, -0.8578845284519532] -0.0865966460021172\n",
      "[0.027714897186028965, 0.4027267809294857, -0.009466024413986956] 1.730191302215707\n",
      ">epoch=61, lrate=0.050, error=6.162\n",
      ">epoch=62, lrate=0.050, error=6.115\n",
      ">epoch=63, lrate=0.050, error=6.068\n",
      ">epoch=64, lrate=0.050, error=6.021\n",
      ">epoch=65, lrate=0.050, error=5.974\n",
      ">epoch=66, lrate=0.050, error=5.928\n",
      ">epoch=67, lrate=0.050, error=5.881\n",
      ">epoch=68, lrate=0.050, error=5.834\n",
      ">epoch=69, lrate=0.050, error=5.787\n",
      ">epoch=70, lrate=0.050, error=5.740\n",
      "line [-2, 8] [0.6798119939069552, -3.904667033515494] w [0.4980327125597469, 1.0863452740883361, -0.9346014567288731]\n",
      "line [-2, 8] [7.3924197916533885, 6.121375324413706] w [0.02795063101918889, 0.21990285737122217, 0.016262503061249895]\n"
     ]
    },
    {
     "data": {
      "image/png": "[encoded data removed]",
      "text/plain": [
       "<Figure size 432x288 with 1 Axes>"
      ]
     },
     "metadata": {
      "needs_background": "light"
     },
     "output_type": "display_data"
    },
    {
     "name": "stdout",
     "output_type": "stream",
     "text": [
      "Layer ---------------\n",
      "[0.9851098163756498, -0.17192629141679772] 2.111454043340953 2.164373709457846 0\n",
      "[0.61789164938969, 0.7862632571947442] 2.5142843583819756 2.2884476240196854 0\n",
      "[-0.05925092810502021, 0.998243120446464] 2.5641261315676998 3.2422392035208327 0\n",
      "Layer ---------------\n",
      "[0.4980327125597469, 1.0863452740883361, -0.9346014567288731] -0.25755487827010426\n",
      "[0.02795063101918889, 0.21990285737122217, 0.016262503061249895] 1.569712973033777\n",
      ">epoch=71, lrate=0.050, error=5.692\n",
      ">epoch=72, lrate=0.050, error=5.643\n",
      ">epoch=73, lrate=0.050, error=5.594\n",
      ">epoch=74, lrate=0.050, error=5.544\n",
      ">epoch=75, lrate=0.050, error=5.493\n",
      ">epoch=76, lrate=0.050, error=5.441\n",
      ">epoch=77, lrate=0.050, error=5.388\n",
      ">epoch=78, lrate=0.050, error=5.335\n",
      ">epoch=79, lrate=0.050, error=5.280\n",
      ">epoch=80, lrate=0.050, error=5.224\n",
      "line [-2, 8] [0.5004608186139138, -3.5492275567442695] w [0.49632729423121696, 1.2255937944541677, -0.9945182386897359]\n",
      "line [-2, 8] [-277.4752266285975, -223.22799179545373] w [0.028214485703105297, -0.005201091961625096, 0.0508592937294309]\n"
     ]
    },
    {
     "data": {
      "image/png": "[encoded data removed]",
      "text/plain": [
       "<Figure size 432x288 with 1 Axes>"
      ]
     },
     "metadata": {
      "needs_background": "light"
     },
     "output_type": "display_data"
    },
    {
     "name": "stdout",
     "output_type": "stream",
     "text": [
      "Layer ---------------\n",
      "[0.9832524265937608, -0.1822489111009476] 2.1107333161348 2.159538504065948 0\n",
      "[0.6136187087918891, 0.7896024824052764] 2.455426091696782 2.2615735919292708 0\n",
      "[-0.07130363169025786, 0.9974546566675501] 2.5760662232796414 3.260636490264293 0\n",
      "Layer ---------------\n",
      "[0.49632729423121696, 1.2255937944541677, -0.9945182386897359] -0.3792929148017683\n",
      "[0.028214485703105297, -0.005201091961625096, 0.0508592937294309] 1.3867451993618898\n",
      ">epoch=81, lrate=0.050, error=5.167\n",
      ">epoch=82, lrate=0.050, error=5.109\n",
      ">epoch=83, lrate=0.050, error=5.050\n",
      ">epoch=84, lrate=0.050, error=4.990\n",
      ">epoch=85, lrate=0.050, error=4.929\n",
      ">epoch=86, lrate=0.050, error=4.867\n",
      ">epoch=87, lrate=0.050, error=4.804\n",
      ">epoch=88, lrate=0.050, error=4.740\n",
      ">epoch=89, lrate=0.050, error=4.676\n",
      ">epoch=90, lrate=0.050, error=4.610\n",
      "line [-2, 8] [0.37741994592505707, -3.24158993072587] w [0.4950331597275595, 1.3678690487180123, -1.0436103695831123]\n",
      "line [-2, 8] [-4.545122415036209, -3.505415479275659] w [0.02853296353198959, -0.2744327516784102, 0.09654487554756189]\n"
     ]
    },
    {
     "data": {
      "image/png": "[encoded data removed]",
      "text/plain": [
       "<Figure size 432x288 with 1 Axes>"
      ]
     },
     "metadata": {
      "needs_background": "light"
     },
     "output_type": "display_data"
    },
    {
     "name": "stdout",
     "output_type": "stream",
     "text": [
      "Layer ---------------\n",
      "[0.9817513510266238, -0.19016909516900726] 2.110189584473775 2.155909496137679 0\n",
      "[0.612310346673188, 0.7906175050914067] 2.3771047234345013 2.2567573284121356 0\n",
      "[-0.07973766849426116, 0.9968158828104112] 2.586991948721811 3.278373187752006 0\n",
      "Layer ---------------\n",
      "[0.4950331597275595, 1.3678690487180123, -1.0436103695831123] -0.4738052570554075\n",
      "[0.02853296353198959, -0.2744327516784102, 0.09654487554756189] 1.1902645240096288\n",
      ">epoch=91, lrate=0.050, error=4.544\n",
      ">epoch=92, lrate=0.050, error=4.477\n",
      ">epoch=93, lrate=0.050, error=4.411\n",
      ">epoch=94, lrate=0.050, error=4.343\n",
      ">epoch=95, lrate=0.050, error=4.276\n",
      ">epoch=96, lrate=0.050, error=4.209\n",
      ">epoch=97, lrate=0.050, error=4.142\n",
      ">epoch=98, lrate=0.050, error=4.075\n",
      ">epoch=99, lrate=0.050, error=4.009\n",
      ">epoch=100, lrate=0.050, error=3.944\n",
      "line [-2, 8] [0.28730452192689154, -2.986905387361513] w [0.49399094528761267, 1.5087332790919732, -1.0851748739539306]\n",
      "line [-2, 8] [-1.870059155897545, -1.3630372625094977] w [0.02893018027212606, -0.5705903561443343, 0.15468985158130474]\n"
     ]
    },
    {
     "data": {
      "image/png": "[encoded data removed]",
      "text/plain": [
       "<Figure size 432x288 with 1 Axes>"
      ]
     },
     "metadata": {
      "needs_background": "light"
     },
     "output_type": "display_data"
    },
    {
     "name": "stdout",
     "output_type": "stream",
     "text": [
      "Layer ---------------\n",
      "[0.9804895536750589, -0.19657119609465687] 2.1097602868465524 2.1530367461033513 0\n",
      "[0.6132073057599272, 0.789922021570896] 2.281076837791879 2.273895028474501 0\n",
      "[-0.08566991576321425, 0.9963235747151242] 2.5971661024720705 3.295664737865033 0\n",
      "Layer ---------------\n",
      "[0.49399094528761267, 1.5087332790919732, -1.0851748739539306] -0.5545159971105146\n",
      "[0.02893018027212606, -0.5705903561443343, 0.15468985158130474] 1.0091773592303013\n",
      ">epoch=101, lrate=0.050, error=3.879\n",
      ">epoch=102, lrate=0.050, error=3.815\n",
      ">epoch=103, lrate=0.050, error=3.752\n",
      ">epoch=104, lrate=0.050, error=3.691\n",
      ">epoch=105, lrate=0.050, error=3.630\n",
      ">epoch=106, lrate=0.050, error=3.571\n",
      ">epoch=107, lrate=0.050, error=3.513\n",
      ">epoch=108, lrate=0.050, error=3.456\n",
      ">epoch=109, lrate=0.050, error=3.401\n",
      ">epoch=110, lrate=0.050, error=3.348\n",
      "line [-2, 8] [0.21720174228642586, -2.7801090246708826] w [0.4931168065595842, 1.645197461657161, -1.1211301281593726]\n",
      "line [-2, 8] [-1.0935026610652174, -0.7512714162907619] w [0.029406717457116587, -0.8592645442556482, 0.22326621489773182]\n"
     ]
    },
    {
     "data": {
      "image/png": "[encoded data removed]",
      "text/plain": [
       "<Figure size 432x288 with 1 Axes>"
      ]
     },
     "metadata": {
      "needs_background": "light"
     },
     "output_type": "display_data"
    },
    {
     "name": "stdout",
     "output_type": "stream",
     "text": [
      "Layer ---------------\n",
      "[0.9793993078780534, -0.2019331466797615] 2.109410425728118 2.150677833567508 0\n",
      "[0.6146749059492348, 0.7887805524962563] 2.1764715308474942 2.3019775121766455 0\n",
      "[-0.08948086932148598, 0.9959885411115287] 2.6067128415081076 3.3126979206370613 0\n",
      "Layer ---------------\n",
      "[0.4931168065595842, 1.645197461657161, -1.1211301281593726] -0.6288938580420277\n",
      "[0.029406717457116587, -0.8592645442556482, 0.22326621489773182] 0.8807946307883096\n",
      ">epoch=111, lrate=0.050, error=3.295\n",
      ">epoch=112, lrate=0.050, error=3.244\n",
      ">epoch=113, lrate=0.050, error=3.195\n",
      ">epoch=114, lrate=0.050, error=3.146\n",
      ">epoch=115, lrate=0.050, error=3.099\n",
      ">epoch=116, lrate=0.050, error=3.054\n",
      ">epoch=117, lrate=0.050, error=3.009\n",
      ">epoch=118, lrate=0.050, error=2.966\n",
      ">epoch=119, lrate=0.050, error=2.924\n",
      ">epoch=120, lrate=0.050, error=2.884\n",
      "line [-2, 8] [0.16055020541474652, -2.6126241585516228] w [0.4923663410605959, 1.7754611735137433, -1.1525513114240513]\n",
      "line [-2, 8] [-0.7867303836672991, -0.5184882686853167] w [0.02992963750314353, -1.1157695168468935, 0.2967091195313295]\n"
     ]
    },
    {
     "data": {
      "image/png": "[encoded data removed]",
      "text/plain": [
       "<Figure size 432x288 with 1 Axes>"
      ]
     },
     "metadata": {
      "needs_background": "light"
     },
     "output_type": "display_data"
    },
    {
     "name": "stdout",
     "output_type": "stream",
     "text": [
      "Layer ---------------\n",
      "[0.9784419987565136, -0.20652180289102348] 2.1091189361192235 2.1486947363439524 0\n",
      "[0.6153386317884476, 0.7882628801540266] 2.07575686948683 2.326419058943303 0\n",
      "[-0.09178823252634576, 0.9957785498642202] 2.6156272922778108 3.329251119642001 0\n",
      "Layer ---------------\n",
      "[0.4923663410605959, 1.7754611735137433, -1.1525513114240513] -0.6996820260076534\n",
      "[0.02992963750314353, -1.1157695168468935, 0.2967091195313295] 0.8179505050669463\n",
      ">epoch=121, lrate=0.050, error=2.844\n",
      ">epoch=122, lrate=0.050, error=2.805\n",
      ">epoch=123, lrate=0.050, error=2.768\n",
      ">epoch=124, lrate=0.050, error=2.731\n",
      ">epoch=125, lrate=0.050, error=2.695\n",
      ">epoch=126, lrate=0.050, error=2.660\n",
      ">epoch=127, lrate=0.050, error=2.626\n",
      ">epoch=128, lrate=0.050, error=2.593\n",
      ">epoch=129, lrate=0.050, error=2.561\n",
      ">epoch=130, lrate=0.050, error=2.529\n",
      "line [-2, 8] [0.11402489274342663, -2.475455698799006] w [0.49171542334348317, 1.8988959598673467, -1.180095663776473]\n",
      "line [-2, 8] [-0.6487267057863049, -0.4208718150472974] w [0.030456584806695726, -1.3366658362221293, 0.3691331814619702]\n"
     ]
    },
    {
     "data": {
      "image/png": "[encoded data removed]",
      "text/plain": [
       "<Figure size 432x288 with 1 Axes>"
      ]
     },
     "metadata": {
      "needs_background": "light"
     },
     "output_type": "display_data"
    },
    {
     "name": "stdout",
     "output_type": "stream",
     "text": [
      "Layer ---------------\n",
      "[0.9775955998095591, -0.210491907761292] 2.108872505131014 2.1470049428011637 0\n",
      "[0.6149153597220726, 0.7885931145894403] 1.986366903780072 2.342868723824118 0\n",
      "[-0.09346826547336679, 0.9956222593681803] 2.6238830756969103 3.3449024760033694 0\n",
      "Layer ---------------\n",
      "[0.49171542334348317, 1.8988959598673467, -1.180095663776473] -0.766909438532166\n",
      "[0.030456584806695726, -1.3366658362221293, 0.3691331814619702] 0.806217655056087\n",
      ">epoch=131, lrate=0.050, error=2.499\n",
      ">epoch=132, lrate=0.050, error=2.468\n",
      ">epoch=133, lrate=0.050, error=2.439\n",
      ">epoch=134, lrate=0.050, error=2.410\n",
      ">epoch=135, lrate=0.050, error=2.382\n",
      ">epoch=136, lrate=0.050, error=2.354\n",
      ">epoch=137, lrate=0.050, error=2.327\n",
      ">epoch=138, lrate=0.050, error=2.301\n",
      ">epoch=139, lrate=0.050, error=2.275\n",
      ">epoch=140, lrate=0.050, error=2.250\n",
      "line [-2, 8] [0.0754991944854123, -2.3612993021976716] w [0.49114738806255653, 2.0155437092196813, -1.204336150996305]\n",
      "line [-2, 8] [-0.5807066954716287, -0.37811662873652063] w [0.030959066511136838, -1.5281631034564316, 0.43680395057495797]\n"
     ]
    },
    {
     "data": {
      "image/png": "[encoded data removed]",
      "text/plain": [
       "<Figure size 432x288 with 1 Axes>"
      ]
     },
     "metadata": {
      "needs_background": "light"
     },
     "output_type": "display_data"
    },
    {
     "name": "stdout",
     "output_type": "stream",
     "text": [
      "Layer ---------------\n",
      "[0.9768441019337694, -0.2139523323481372] 2.1086617429406243 2.1455509145474934 0\n",
      "[0.613791121762381, 0.789468466023614] 1.9097038357382417 2.354491979922282 0\n",
      "[-0.09510221904072813, 0.9954675122441361] 2.6314751273548502 3.3593673670427564 0\n",
      "Layer ---------------\n",
      "[0.49114738806255653, 2.0155437092196813, -1.204336150996305] -0.830122849628887\n",
      "[0.030959066511136838, -1.5281631034564316, 0.43680395057495797] 0.8254964129275794\n",
      ">epoch=141, lrate=0.050, error=2.225\n",
      ">epoch=142, lrate=0.050, error=2.200\n",
      ">epoch=143, lrate=0.050, error=2.177\n",
      ">epoch=144, lrate=0.050, error=2.153\n",
      ">epoch=145, lrate=0.050, error=2.130\n",
      ">epoch=146, lrate=0.050, error=2.108\n",
      ">epoch=147, lrate=0.050, error=2.086\n",
      ">epoch=148, lrate=0.050, error=2.064\n",
      ">epoch=149, lrate=0.050, error=2.043\n",
      "[0, 1]\n",
      "[2.7810836, 2.550537003, 0] [0.7631644493672717, 0.3154265836174243]\n",
      "[1.465489372, 2.362125076, 0] [0.7375195670764827, 0.3370856730820678]\n",
      "[3.396561688, 4.400293529, 0] [0.7471455534556938, 0.3292829554915281]\n",
      "[1.38807019, 1.850220317, 0] [0.6924083749360378, 0.37971051786426063]\n",
      "[3.06407232, 3.005305973, 0] [0.7651231214925988, 0.3134383259148678]\n",
      "[7.627531214, 2.759262235, 1] [0.29244703653718057, 0.7020698962734998]\n",
      "[5.332441248, 2.088626775, 1] [0.32786534837705966, 0.6750617950914277]\n",
      "[6.922596716, 1.77106367, 1] [0.29250512779601356, 0.7020685021658506]\n",
      "[8.675418651, -0.242068655, 1] [0.29244740966681027, 0.7020701369635809]\n",
      "[7.673756466, 3.508563011, 1] [0.29244698736331126, 0.7020699182128596]\n",
      "[0.673756466, 5.508563011, 1] [0.13587698222615174, 0.7587753471228208]\n",
      "[1.373756466, 6.108563011, 1] [0.12508409218202224, 0.7728147209305859]\n",
      "[1.93756466, 7.108563011, 1] [0.11865902988766616, 0.7870417589229434]\n",
      "accuray: 1.0\n"
     ]
    }
   ],
   "source": [
    "T = [[2.7810836,2.550537003,0],\n",
    "\t[1.465489372,2.362125076,0],\n",
    "\t[3.396561688,4.400293529,0],\n",
    "\t[1.38807019,1.850220317,0],\n",
    "\t[3.06407232,3.005305973,0],\n",
    "\t[7.627531214,2.759262235,1],\n",
    "\t[5.332441248,2.088626775,1],\n",
    "\t[6.922596716,1.77106367,1],\n",
    "\t[8.675418651,-0.242068655,1],\n",
    "\t[7.673756466,3.508563011,1],\n",
    "    [0.673756466,5.508563011,1],\n",
    "    [1.373756466,6.108563011,1],\n",
    "    [1.93756466,7.108563011,1] \n",
    "    ]\n",
    "n_inputs = len(T[0]) - 1\n",
    "network = SSNN_network(n_inputs, ['S','S','S'],['L','L'],[0,1])\n",
    "network.train_network( T, 0.05, 150, 10)\n",
    "network.test_network(T)"
   ]
  },
  {
   "cell_type": "code",
   "execution_count": 51,
   "metadata": {},
   "outputs": [
    {
     "name": "stdout",
     "output_type": "stream",
     "text": [
      "[2.550537003, 2.362125076, 4.400293529, 1.850220317, 3.005305973, 2.759262235, 2.088626775, 1.77106367, -0.242068655, 3.508563011, 5.508563011, 6.108563011, 7.108563011]\n"
     ]
    }
   ],
   "source": [
    "print ([x[1] for x in T])"
   ]
  },
  {
   "cell_type": "code",
   "execution_count": null,
   "metadata": {},
   "outputs": [],
   "source": []
  }
 ],
 "metadata": {
  "kernelspec": {
   "display_name": "Python 3",
   "language": "python",
   "name": "python3"
  },
  "language_info": {
   "codemirror_mode": {
    "name": "ipython",
    "version": 3
   },
   "file_extension": ".py",
   "mimetype": "text/x-python",
   "name": "python",
   "nbconvert_exporter": "python",
   "pygments_lexer": "ipython3",
   "version": "3.7.3"
  }
 },
 "nbformat": 4,
 "nbformat_minor": 4
}
