{
 "cells": [
  {
   "cell_type": "code",
   "execution_count": 65,
   "metadata": {},
   "outputs": [],
   "source": [
    "import random\n",
    "import math\n",
    "\n",
    "class s_neuron ():\n",
    "    def __init__ (self, N):\n",
    "        self.N = N\n",
    "        self.W = [random.random() for _ in range(self.N)]\n",
    "        w2 = math.sqrt(sum([ w*w for w in self.W]))\n",
    "        self.W = [x/w2 for x in self.W]\n",
    "        self.A = random.random()\n",
    "        self.A = .7\n",
    "        self.R = math.tan(random.random()*1.5)\n",
    "        self.R = 1.5\n",
    "        \n",
    "    def process (self, X):\n",
    "        y1 = sum([X[i]*X[i] for i in range(self.N)])\n",
    "        y2 = sum([X[i]*self.W[i] for i in range(self.N)])\n",
    "        y = y1 - 2*(self.A + self.R)*y2 + self.A*self.A + 2*self.A*self.R\n",
    "        return self.sigmoid(y)\n",
    "    \n",
    "    \n",
    "    def sigmoid(self,x):\n",
    "        return - 1 / (1 + math.exp(-x)) + .5\n",
    "        \n",
    "    def print (self):\n",
    "        print (\"N:\",self.N, \"A:\",self.A,\"R:\",self.R,\"W:\",self.W)\n",
    "        \n",
    "    def train(self, X, y):\n",
    "        \n",
    "        ye = self.process(X)\n",
    "        \n",
    "        dA = 2*(ye - y)*(-2*sum([X[i]*self.W[i] for i in range(self.N)]) + 2*self.A + 2*self.R)\n",
    "        dR = 2*(ye - y)*(-2*sum([X[i]*self.W[i] for i in range(self.N)]) + 2*self.A )\n",
    "        dW = [0 for i in range(self.N)]\n",
    "        for i in range(self.N):\n",
    "            dW[i] = 2*(ye - y)*(- 2*(self.A + self.R)*X[i])\n",
    "        \n",
    "        self.A = self.A - 0.003*dA\n",
    "        self.R = self.R - 0.003*dR\n",
    "        for i in range(self.N):\n",
    "            self.W[i] = self.W[i] - 0.001*dW[i]\n",
    "        \n",
    "        w2 = math.sqrt(sum([ w*w for w in self.W]))\n",
    "        self.W = [x/w2 for x in self.W]\n",
    "\n",
    "            "
   ]
  },
  {
   "cell_type": "code",
   "execution_count": 36,
   "metadata": {},
   "outputs": [
    {
     "name": "stdout",
     "output_type": "stream",
     "text": [
      "N: 2 A: 0.7 R: 1.5 W: [0.9594066038103622, 0.2820265387602141]\n",
      "0.0 : -0.4302152171234199\n",
      "0.5 : -0.2635966051596269\n",
      "1.0 : 1.1102230246251565e-16\n",
      "1.5 : 0.21656781455771446\n",
      "2.0 : 0.3334113864245403\n",
      "2.5 : 0.3856947637909995\n",
      "3.0 : 0.4037844582893071\n",
      "3.5 : 0.39912137726994346\n",
      "4.0 : 0.3687555305614768\n",
      "4.5 : 0.293720608245328\n",
      "5.0 : 0.13645254028156695\n",
      "5.5 : -0.11597530191812455\n",
      "6.0 : -0.3519528019683106\n",
      "6.5 : -0.46347325509487725\n",
      "7.0 : -0.4935678915330812\n",
      "7.5 : -0.4991355048551873\n",
      "8.0 : -0.4999094936469659\n",
      "8.5 : -0.4999925887201281\n",
      "9.0 : -0.4999995250234843\n",
      "9.5 : -0.4999999761742765\n"
     ]
    },
    {
     "data": {
      "image/png": "[encoded data removed]",
      "text/plain": [
       "<Figure size 432x288 with 1 Axes>"
      ]
     },
     "metadata": {
      "needs_background": "light"
     },
     "output_type": "display_data"
    }
   ],
   "source": [
    "import matplotlib.pyplot as plt \n",
    "figure, axes = plt.subplots()\n",
    "axes.set_aspect( 1 ) \n",
    "\n",
    "sn = s_neuron(2)\n",
    "sn.print()\n",
    "cc = plt.Circle( ((sn.A+sn.R)*sn.W[0], (sn.A+sn.R)*sn.W[1] ), \n",
    "                                      sn.R , \n",
    "                                      fill = False )   \n",
    "axes.add_artist( cc) \n",
    "\n",
    "\n",
    "for a in range(20):\n",
    "    X = [a*.5*sn.A*w for w in sn.W]\n",
    "    print (a*.5,\":\",sn.process(X))\n",
    "    cl = 'blue' if sn.process(X) > 0 else 'green'\n",
    "    cc = plt.Circle( (X[0], X[1] ),    .05 , fill = False, color = cl )   \n",
    "    axes.add_artist( cc) \n",
    "    \n",
    "\n",
    "plt.xlim( -2 ,4 ) \n",
    "plt.ylim( -2 , 4) \n",
    "plt.title( 'Circle' ) \n",
    "plt.show() \n"
   ]
  },
  {
   "cell_type": "code",
   "execution_count": 63,
   "metadata": {},
   "outputs": [
    {
     "name": "stdout",
     "output_type": "stream",
     "text": [
      "N: 2 A: 0.7 R: 1.5 W: [0.38542339740504866, 0.9227398358869904]\n",
      "red\n",
      "red\n",
      "red\n",
      "blue\n"
     ]
    },
    {
     "data": {
      "image/png": "[encoded data removed]",
      "text/plain": [
       "<Figure size 432x288 with 1 Axes>"
      ]
     },
     "metadata": {
      "needs_background": "light"
     },
     "output_type": "display_data"
    },
    {
     "name": "stdout",
     "output_type": "stream",
     "text": [
      "N: 2 A: 1.457118194631457 R: 6.12781088254159 W: [0.7155370084345186, 0.6985748274598645]\n",
      "red\n",
      "red\n",
      "red\n",
      "blue\n"
     ]
    },
    {
     "data": {
      "image/png": "[encoded data removed]",
      "text/plain": [
       "<Figure size 432x288 with 1 Axes>"
      ]
     },
     "metadata": {
      "needs_background": "light"
     },
     "output_type": "display_data"
    }
   ],
   "source": [
    "import matplotlib.pyplot as plt \n",
    "figure, axes = plt.subplots()\n",
    "axes.set_aspect( 1 ) \n",
    "T = [([3,3],-1),([3.5,2.8],-1),([2.1,3.4],-1),([0,1],1)]\n",
    "     \n",
    "sn = s_neuron(2)\n",
    "sn.print()\n",
    "cc = plt.Circle( ((sn.A+sn.R)*sn.W[0], (sn.A+sn.R)*sn.W[1] ), sn.R ,fill = False )   \n",
    "axes.add_artist( cc)    \n",
    "for i in range(len(T)):\n",
    "    cl = 'blue' if T[i][1] > 0 else 'red'\n",
    "    print (cl)\n",
    "    cc = plt.Circle( (T[i][0][0], T[i][0][1] ), 0.1 ,fill = True, color =cl )   \n",
    "    axes.add_artist( cc)        \n",
    "\n",
    "plt.xlim( -2 ,4 ) \n",
    "plt.ylim( -2 , 4) \n",
    "plt.title( 'Circle' ) \n",
    "plt.show()\n",
    "\n",
    "for _ in range(10):\n",
    "    for i in range(len(T)):\n",
    "        sn.train([T[i][0][0], T[i][0][1]], T[i][1])\n",
    "\n",
    "\n",
    "sn.print()\n",
    "figure, axes = plt.subplots()\n",
    "axes.set_aspect( 1 ) \n",
    "cc = plt.Circle( ((sn.A+sn.R)*sn.W[0], (sn.A+sn.R)*sn.W[1] ), sn.R ,fill = False )   \n",
    "axes.add_artist( cc)    \n",
    "for i in range(len(T)):\n",
    "    cl = 'blue' if T[i][1] > 0 else 'red'\n",
    "    print (cl)\n",
    "    cc = plt.Circle( (T[i][0][0], T[i][0][1] ), 0.1 ,fill = True, color =cl )   \n",
    "    axes.add_artist( cc)        \n",
    "\n",
    "plt.xlim( -2 ,4 ) \n",
    "plt.ylim( -2 , 4) \n",
    "plt.title( 'Circle' ) \n",
    "plt.show()\n"
   ]
  },
  {
   "cell_type": "code",
   "execution_count": 72,
   "metadata": {},
   "outputs": [
    {
     "name": "stdout",
     "output_type": "stream",
     "text": [
      "N: 2 A: 0.7 R: 1.5 W: [0.6349112520051825, 0.7725850775657084]\n",
      "red\n",
      "red\n",
      "red\n",
      "blue\n",
      "blue\n"
     ]
    },
    {
     "data": {
      "image/png": "[encoded data removed]",
      "text/plain": [
       "<Figure size 432x288 with 1 Axes>"
      ]
     },
     "metadata": {
      "needs_background": "light"
     },
     "output_type": "display_data"
    },
    {
     "name": "stdout",
     "output_type": "stream",
     "text": [
      "N: 2 A: -5.763962718624462 R: -4.112954702082544 W: [0.4733023500629241, 0.8809000428112791]\n",
      "red\n",
      "red\n",
      "red\n",
      "blue\n",
      "blue\n"
     ]
    },
    {
     "data": {
      "image/png": "[encoded data removed]",
      "text/plain": [
       "<Figure size 432x288 with 1 Axes>"
      ]
     },
     "metadata": {
      "needs_background": "light"
     },
     "output_type": "display_data"
    }
   ],
   "source": [
    "import matplotlib.pyplot as plt \n",
    "figure, axes = plt.subplots()\n",
    "axes.set_aspect( 1 ) \n",
    "T = [([3,2],0),([3.5,1.8],0),([2.1,2.4],0),([0,1],1), ([1,4],1)]\n",
    "     \n",
    "sn = s_neuron(2)\n",
    "sn.print()\n",
    "cc = plt.Circle( ((sn.A+sn.R)*sn.W[0], (sn.A+sn.R)*sn.W[1] ), sn.R ,fill = False )   \n",
    "axes.add_artist( cc)    \n",
    "for i in range(len(T)):\n",
    "    cl = 'blue' if T[i][1] > 0 else 'red'\n",
    "    print (cl)\n",
    "    cc = plt.Circle( (T[i][0][0], T[i][0][1] ), 0.1 ,fill = True, color =cl )   \n",
    "    axes.add_artist( cc)        \n",
    "\n",
    "plt.xlim( -2 ,6 ) \n",
    "plt.ylim( -2 , 6) \n",
    "plt.title( 'Circle' ) \n",
    "plt.show()\n",
    "\n",
    "for _ in range(30):\n",
    "    for i in range(len(T)):\n",
    "        sn.train([T[i][0][0], T[i][0][1]], T[i][1])\n",
    "\n",
    "\n",
    "sn.print()\n",
    "figure, axes = plt.subplots()\n",
    "axes.set_aspect( 1 ) \n",
    "cc = plt.Circle( ((sn.A+sn.R)*sn.W[0], (sn.A+sn.R)*sn.W[1] ), sn.R ,fill = False )   \n",
    "axes.add_artist( cc)    \n",
    "for i in range(len(T)):\n",
    "    cl = 'blue' if T[i][1] > 0 else 'red'\n",
    "    print (cl)\n",
    "    cc = plt.Circle( (T[i][0][0], T[i][0][1] ), 0.1 ,fill = True, color =cl )   \n",
    "    axes.add_artist( cc)        \n",
    "\n",
    "plt.xlim( -2 ,6 ) \n",
    "plt.ylim( -2 , 6) \n",
    "plt.title( 'Circle' ) \n",
    "plt.show()\n"
   ]
  },
  {
   "cell_type": "code",
   "execution_count": null,
   "metadata": {},
   "outputs": [],
   "source": []
  }
 ],
 "metadata": {
  "kernelspec": {
   "display_name": "Python 3",
   "language": "python",
   "name": "python3"
  },
  "language_info": {
   "codemirror_mode": {
    "name": "ipython",
    "version": 3
   },
   "file_extension": ".py",
   "mimetype": "text/x-python",
   "name": "python",
   "nbconvert_exporter": "python",
   "pygments_lexer": "ipython3",
   "version": "3.7.3"
  }
 },
 "nbformat": 4,
 "nbformat_minor": 2
}
